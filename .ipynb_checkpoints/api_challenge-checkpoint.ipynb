{
 "cells": [
  {
   "cell_type": "code",
   "execution_count": 19,
   "metadata": {
    "collapsed": false
   },
   "outputs": [
    {
     "name": "stdout",
     "output_type": "stream",
     "text": [
      "{'prefix': 'tbfv', 'array': ['knfeuzmb', 'zrpfdquo', 'tbfvsezi', 'tbfvabcy', 'tbfvgzil', 'tbfvzmuk', 'tbfvumtv', 'tbfvhtjn', 'wedzmgtp', 'ykwxsucr', 'tbfvzsyx', 'tbfvvdgj', 'ernokjcz', 'tbfvfzco', 'tbfvgiku', 'uwfeojki', 'vmcityof', 'ycbaqnku', 'tbfverhp', 'tbfvafjb']}\n"
     ]
    }
   ],
   "source": [
    "import json\n",
    "import requests\n",
    "import ast\n",
    "\n",
    "def step1():\n",
    "    payload = {'github':'https://github.com/mhkane/api-challenge','token':'1f32e1a6c4cc4e28575e097c64ee1b59'}\n",
    "    url = 'http://challenge.code2040.org/api/register'\n",
    "    headers = {'content-type': 'application/json'}\n",
    "    r = requests.post(url, data=json.dumps(payload), headers=headers)\n",
    "    print r.text\n",
    "#step1()\n",
    "def step2():\n",
    "    payload = {'token':'1f32e1a6c4cc4e28575e097c64ee1b59'}\n",
    "    url = 'http://challenge.code2040.org/api/reverse'\n",
    "    headers = {'content-type': 'application/json'}\n",
    "    r = requests.post(url, data=json.dumps(payload), headers=headers)\n",
    "    rev_s= reverse(r.text)\n",
    "    url2= 'http://challenge.code2040.org/api/reverse/validate'\n",
    "    payload2 =  {'token':'1f32e1a6c4cc4e28575e097c64ee1b59','string':rev_s}    \n",
    "    r2 = requests.post(url2, data=json.dumps(payload2), headers=headers)\n",
    "    print r2.text\n",
    "\n",
    "def reverse(string):\n",
    "    return string[::-1]\n",
    "#step2()\n",
    "\n",
    "def step3():\n",
    "    payload = {'token':'1f32e1a6c4cc4e28575e097c64ee1b59'}\n",
    "    url = 'http://challenge.code2040.org/api/haystack'\n",
    "    headers = {'content-type': 'application/json'}\n",
    "    r = requests.post(url, data=json.dumps(payload), headers=headers)\n",
    "    dic2= ast.literal_eval(r.text)\n",
    "    needle = dic2['needle']\n",
    "    haystack = dic2['haystack']\n",
    "    try:\n",
    "        index = haystack.index(needle)\n",
    "    except:\n",
    "        index = None\n",
    "    if index:\n",
    "        payload= {'token':'1f32e1a6c4cc4e28575e097c64ee1b59','needle':index}\n",
    "        url = 'http://challenge.code2040.org/api/haystack/validate'\n",
    "        headers = {'content-type': 'application/json'}\n",
    "        r = requests.post(url, data=json.dumps(payload), headers=headers)\n",
    "        print r.text\n",
    "#step3()\n",
    "\n",
    "def step4():\n",
    "    payload = {'token':'1f32e1a6c4cc4e28575e097c64ee1b59'}\n",
    "    url = 'http://challenge.code2040.org/api/prefix'\n",
    "    headers = {'content-type': 'application/json'}\n",
    "    r = requests.post(url, data=json.dumps(payload), headers=headers)\n",
    "    dic2= ast.literal_eval(r.text)\n",
    "    prefix = dic2['prefix']\n",
    "    array = dic2['array']\n",
    "    try:\n",
    "        final = list(filter(lambda x: x[:len(prefix)]==prefix))\n",
    "    except:\n",
    "        final = None\n",
    "    if final:\n",
    "        payload2= {'token':'1f32e1a6c4cc4e28575e097c64ee1b59','array':final}\n",
    "        url2 = 'http://challenge.code2040.org/api/prefix/validate'\n",
    "        headers = {'content-type': 'application/json'}\n",
    "        r2 = requests.post(url2, data=json.dumps(payload2), headers=headers)\n",
    "        print r2.text\n",
    "step4()\n",
    "    "
   ]
  },
  {
   "cell_type": "code",
   "execution_count": null,
   "metadata": {
    "collapsed": true
   },
   "outputs": [],
   "source": []
  }
 ],
 "metadata": {
  "anaconda-cloud": {},
  "kernelspec": {
   "display_name": "Python [Root]",
   "language": "python",
   "name": "Python [Root]"
  },
  "language_info": {
   "codemirror_mode": {
    "name": "ipython",
    "version": 2
   },
   "file_extension": ".py",
   "mimetype": "text/x-python",
   "name": "python",
   "nbconvert_exporter": "python",
   "pygments_lexer": "ipython2",
   "version": "2.7.12"
  }
 },
 "nbformat": 4,
 "nbformat_minor": 0
}
